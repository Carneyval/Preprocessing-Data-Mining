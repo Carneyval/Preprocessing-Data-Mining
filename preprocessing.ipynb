{
 "cells": [
  {
   "cell_type": "code",
   "execution_count": 1,
   "id": "86caba29-3c5b-4594-9b21-ef91edc7cd60",
   "metadata": {},
   "outputs": [],
   "source": [
    "import numpy as np\n",
    "import pandas as pd\n",
    "import matplotlib.pyplot as plt\n",
    "np.set_printoptions(suppress=True)"
   ]
  },
  {
   "cell_type": "code",
   "execution_count": 2,
   "id": "8ee59bcb-7691-49bc-a311-5cd9fce93b8e",
   "metadata": {},
   "outputs": [],
   "source": [
    "dataset = pd.read_csv('Heart Attack.csv', sep=';')"
   ]
  },
  {
   "cell_type": "code",
   "execution_count": 3,
   "id": "d499b31b-8976-4203-ba1b-11aa81c93b7d",
   "metadata": {},
   "outputs": [],
   "source": [
    "X = dataset.iloc[:, :-1].values   # Semua kolom kecuali 'Outcome'\n",
    "y = dataset.iloc[:, -1].values    # Hanya kolom 'Outcome'"
   ]
  },
  {
   "cell_type": "code",
   "execution_count": 4,
   "id": "9097c553-54b3-47bb-a2b3-2f756580e92c",
   "metadata": {},
   "outputs": [],
   "source": [
    "from sklearn.model_selection import train_test_split\n",
    "X_train, X_test, y_train, y_test = train_test_split(X, y, test_size=0.2, random_state=0)"
   ]
  },
  {
   "cell_type": "code",
   "execution_count": 5,
   "id": "3b402895-08b8-4525-bdfa-271ab36ebf8b",
   "metadata": {},
   "outputs": [
    {
     "name": "stdout",
     "output_type": "stream",
     "text": [
      "[[ 64.     66.    160.    ... 160.      1.8     0.012]\n",
      " [ 21.     94.     98.    ... 296.      6.75    1.06 ]\n",
      " [ 55.     64.    160.    ... 270.      1.99    0.003]\n",
      " ...\n",
      " [ 45.     85.    168.    ...  96.      1.24    4.25 ]\n",
      " [ 54.     58.    117.    ... 443.      5.8     0.359]\n",
      " [ 51.     94.    157.    ... 134.     50.89    1.77 ]]\n"
     ]
    }
   ],
   "source": [
    "print(X)"
   ]
  },
  {
   "cell_type": "code",
   "execution_count": 6,
   "id": "f72ebfb4-99f7-4476-97db-0ff5dddf6488",
   "metadata": {},
   "outputs": [
    {
     "name": "stdout",
     "output_type": "stream",
     "text": [
      "['negative' 'positive' 'negative' ... 'positive' 'positive' 'positive']\n"
     ]
    }
   ],
   "source": [
    "print(y)"
   ]
  },
  {
   "cell_type": "code",
   "execution_count": 7,
   "id": "caa77ff2-2ace-4077-85f7-7d6f795a967d",
   "metadata": {},
   "outputs": [],
   "source": [
    "#Menghilangkan missing value(NaN)\n",
    "from sklearn.impute import SimpleImputer\n",
    "imputer = SimpleImputer(missing_values=np.nan, strategy='mean')\n",
    "imputer.fit(X[:, 0:6])\n",
    "X[:, 0:6] = imputer.transform(X[:, 0:6])"
   ]
  },
  {
   "cell_type": "code",
   "execution_count": 8,
   "id": "39ffd1fc-d64f-4169-8066-e740e2e9a6bd",
   "metadata": {},
   "outputs": [
    {
     "name": "stdout",
     "output_type": "stream",
     "text": [
      "[[ 64.     66.    160.    ... 160.      1.8     0.012]\n",
      " [ 21.     94.     98.    ... 296.      6.75    1.06 ]\n",
      " [ 55.     64.    160.    ... 270.      1.99    0.003]\n",
      " ...\n",
      " [ 45.     85.    168.    ...  96.      1.24    4.25 ]\n",
      " [ 54.     58.    117.    ... 443.      5.8     0.359]\n",
      " [ 51.     94.    157.    ... 134.     50.89    1.77 ]]\n"
     ]
    }
   ],
   "source": [
    "print(X)"
   ]
  },
  {
   "cell_type": "code",
   "execution_count": 9,
   "id": "1924fd99-782a-4830-be7c-0ce4f0bd4665",
   "metadata": {},
   "outputs": [],
   "source": [
    "from sklearn.preprocessing import LabelEncoder\n",
    "le = LabelEncoder()\n",
    "y = le.fit_transform(y)"
   ]
  },
  {
   "cell_type": "code",
   "execution_count": 10,
   "id": "6307b1ab-1b46-4f4f-8055-65a73759dd58",
   "metadata": {},
   "outputs": [
    {
     "name": "stdout",
     "output_type": "stream",
     "text": [
      "[0 1 0 ... 1 1 1]\n"
     ]
    }
   ],
   "source": [
    "print(y)"
   ]
  },
  {
   "cell_type": "code",
   "execution_count": 11,
   "id": "631c37ae-45b3-45ff-bd40-6144dcf5f24e",
   "metadata": {},
   "outputs": [],
   "source": [
    "#membagi dataset ke dalam taining set dan test set\n",
    "from sklearn.model_selection import train_test_split\n",
    "X_train, X_test, y_train, y_test = train_test_split(X, y, test_size=0.2, random_state=0)"
   ]
  },
  {
   "cell_type": "code",
   "execution_count": 12,
   "id": "38ab3bb7-cdff-4c9d-84c3-858e4c8f15c4",
   "metadata": {},
   "outputs": [
    {
     "name": "stdout",
     "output_type": "stream",
     "text": [
      "[[ 79.     74.    155.    ... 168.      2.84    0.023]\n",
      " [ 38.     80.    152.    ... 133.      1.19    0.003]\n",
      " [ 70.     94.    122.    ... 229.      3.38    2.32 ]\n",
      " ...\n",
      " [ 45.    103.    115.    ... 113.      2.74    0.066]\n",
      " [ 60.     85.    115.    ... 105.      2.37    0.02 ]\n",
      " [ 75.     63.    110.    ...  99.      1.02    0.075]]\n"
     ]
    }
   ],
   "source": [
    "print(X_train)"
   ]
  },
  {
   "cell_type": "code",
   "execution_count": 13,
   "id": "c8c4a693-c7d4-4383-84bd-eaf3e1dc977a",
   "metadata": {},
   "outputs": [
    {
     "name": "stdout",
     "output_type": "stream",
     "text": [
      "[[ 53.     89.    116.    ...  98.      6.04    0.003]\n",
      " [ 75.     80.     90.    ...  86.      4.71    0.062]\n",
      " [ 31.    132.    125.    ...  92.      8.69    0.003]\n",
      " ...\n",
      " [ 36.     55.    101.    ... 115.      2.78    0.016]\n",
      " [ 71.     60.    124.    ... 200.      1.18    0.014]\n",
      " [ 42.    100.    119.    ... 163.     50.46    0.003]]\n"
     ]
    }
   ],
   "source": [
    "print(X_test)"
   ]
  },
  {
   "cell_type": "code",
   "execution_count": 14,
   "id": "c28b627f-38f0-4992-a1aa-f63175c193a2",
   "metadata": {},
   "outputs": [
    {
     "name": "stdout",
     "output_type": "stream",
     "text": [
      "[1 0 1 ... 1 1 1]\n"
     ]
    }
   ],
   "source": [
    "print(y_train)"
   ]
  },
  {
   "cell_type": "code",
   "execution_count": 15,
   "id": "33ddfb76-f8b2-4e30-99c8-5885d28771bf",
   "metadata": {},
   "outputs": [
    {
     "name": "stdout",
     "output_type": "stream",
     "text": [
      "[0 1 1 0 0 0 1 1 0 0 0 0 1 0 0 1 1 0 0 0 0 0 0 0 0 0 1 1 0 1 0 1 1 1 1 1 1\n",
      " 0 1 0 1 0 0 0 0 0 0 0 0 0 1 0 0 0 0 1 1 1 0 0 0 1 1 1 1 0 1 1 0 1 0 1 1 0\n",
      " 0 1 0 1 0 1 1 1 1 1 0 0 1 0 0 1 0 0 0 1 0 1 0 1 1 1 0 1 1 0 1 1 1 1 0 1 0\n",
      " 0 1 1 1 0 1 1 1 0 1 1 1 1 0 0 1 1 1 1 1 1 0 0 1 1 1 1 1 1 0 1 1 0 1 0 1 1\n",
      " 1 1 1 1 0 0 0 1 0 1 1 1 0 1 0 0 0 1 1 1 1 1 1 0 0 0 1 1 0 0 0 1 1 1 0 1 0\n",
      " 1 1 1 1 0 0 1 1 0 0 0 1 1 0 1 1 0 0 1 1 0 1 0 0 0 1 1 0 1 1 0 0 1 1 1 0 1\n",
      " 1 1 1 1 0 0 1 0 1 1 1 0 1 1 1 0 1 1 1 1 1 1 0 1 0 1 0 1 0 1 1 1 1 1 1 1 1\n",
      " 0 1 1 0 1]\n"
     ]
    }
   ],
   "source": [
    "print(y_test)"
   ]
  },
  {
   "cell_type": "code",
   "execution_count": 16,
   "id": "f2422a8a-62d2-4e48-b63a-1aed7eccfe56",
   "metadata": {},
   "outputs": [],
   "source": [
    "from sklearn.preprocessing import StandardScaler\n",
    "sc = StandardScaler()\n",
    "X_train[:, 0:] = sc.fit_transform(X_train[:, 0:])\n",
    "X_test[:, 0:] = sc.fit_transform(X_test[:, 0:])"
   ]
  },
  {
   "cell_type": "code",
   "execution_count": 17,
   "id": "b9c93e31-46c3-4d51-87a1-9a72336753a9",
   "metadata": {},
   "outputs": [
    {
     "name": "stdout",
     "output_type": "stream",
     "text": [
      "[[ 1.6724233  -0.08248583  1.10107301 ...  0.27571841 -0.2685793\n",
      "  -0.28712133]\n",
      " [-1.33550476  0.04360335  0.98442767 ... -0.18472048 -0.30311166\n",
      "  -0.30397825]\n",
      " [ 1.01214641  0.33781146 -0.18202569 ...  1.07819762 -0.2572778\n",
      "   1.64889626]\n",
      " ...\n",
      " [-0.82195606  0.52694525 -0.45419814 ... -0.44782841 -0.27067217\n",
      "  -0.25087895]\n",
      " [ 0.27850542  0.14867768 -0.45419814 ... -0.55307159 -0.27841579\n",
      "  -0.28964987]\n",
      " [ 1.3789669  -0.31364935 -0.64860704 ... -0.63200397 -0.30666953\n",
      "  -0.24329333]]\n"
     ]
    }
   ],
   "source": [
    "print(X_train)"
   ]
  },
  {
   "cell_type": "code",
   "execution_count": 18,
   "id": "dec1ff6a-1c09-46a5-a535-d4e0021ecad5",
   "metadata": {},
   "outputs": [
    {
     "name": "stdout",
     "output_type": "stream",
     "text": [
      "[[-0.22968782  0.13824735 -0.47650855 ... -0.66945035 -0.19173985\n",
      "  -0.34208463]\n",
      " [ 1.37757345  0.00029031 -1.42044928 ... -0.8403463  -0.22511515\n",
      "  -0.28393625]\n",
      " [-1.83694909  0.79737539 -0.14975983 ... -0.75489832 -0.12524018\n",
      "  -0.34208463]\n",
      " ...\n",
      " [-1.47166244 -0.38292367 -1.02108974 ... -0.42734776 -0.27354698\n",
      "  -0.32927228]\n",
      " [ 1.08534413 -0.30628087 -0.18606524 ...  0.7831652  -0.31369772\n",
      "  -0.33124341]\n",
      " [-1.03331845  0.3068615  -0.36759231 ...  0.25623603  0.92294512\n",
      "  -0.34208463]]\n"
     ]
    }
   ],
   "source": [
    "print(X_test)"
   ]
  },
  {
   "cell_type": "code",
   "execution_count": 19,
   "id": "e2882d3f-7c22-4234-aaf4-21f43d5b14ff",
   "metadata": {},
   "outputs": [],
   "source": [
    "#encoding data kategori (atribut) Matrix X yang terbentuk sebelumnya\n",
    "#bertipe string, jadi perlu diubah ke numerik (int \n",
    "#atau float). karna saya sudah float tidak perlu kode berikut.\n",
    "#from sklearn.compose import ColumnTransformer\n",
    "#from sklearn.preprocessing import OneHotEncoder\n",
    "#ct = ColumnTransformer(transformers=[('encoder', OneHotEncoder(), [0])], remainder='passthrough')\n",
    "#X = np.array(ct.fit_transform(X))"
   ]
  },
  {
   "cell_type": "code",
   "execution_count": 20,
   "id": "574c0dcb-23af-4ac3-aa45-643c796b78a4",
   "metadata": {},
   "outputs": [],
   "source": [
    "#untuk mengubah yes or no menjadi 1 dan 0 \n",
    "#from sklearn.preprocessing import LabelEncoder\n",
    "#le = LabelEncoder()\n",
    "#y = le.fit_transform(y)"
   ]
  }
 ],
 "metadata": {
  "kernelspec": {
   "display_name": "Python 3 (ipykernel)",
   "language": "python",
   "name": "python3"
  },
  "language_info": {
   "codemirror_mode": {
    "name": "ipython",
    "version": 3
   },
   "file_extension": ".py",
   "mimetype": "text/x-python",
   "name": "python",
   "nbconvert_exporter": "python",
   "pygments_lexer": "ipython3",
   "version": "3.11.7"
  }
 },
 "nbformat": 4,
 "nbformat_minor": 5
}
